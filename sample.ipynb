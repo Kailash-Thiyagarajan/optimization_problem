{
 "cells": [
  {
   "cell_type": "code",
   "execution_count": 22,
   "metadata": {},
   "outputs": [],
   "source": [
    "import pulp\n",
    "from pulp import *\n",
    "import pandas as pd\n",
    "import numpy as np"
   ]
  },
  {
   "cell_type": "code",
   "execution_count": 4,
   "metadata": {},
   "outputs": [
    {
     "data": {
      "text/plain": [
       "array([[1. , 3. , 0.5, 4. ],\n",
       "       [2.5, 5. , 1.5, 2.5]])"
      ]
     },
     "execution_count": 4,
     "metadata": {},
     "output_type": "execute_result"
    }
   ],
   "source": [
    "n_warehouses = 2\n",
    "n_customers = 4\n",
    "cost_matrix = np.array([[1,3,0.5,4],[2.5,5,1.5,2.5]])\n",
    "cost_matrix"
   ]
  },
  {
   "cell_type": "code",
   "execution_count": 5,
   "metadata": {},
   "outputs": [
    {
     "data": {
      "text/plain": [
       "array([35000, 22000, 18000, 30000])"
      ]
     },
     "execution_count": 5,
     "metadata": {},
     "output_type": "execute_result"
    }
   ],
   "source": [
    "cust_demands = np.array([35000, 22000, 18000, 30000])\n",
    "cust_demands"
   ]
  },
  {
   "cell_type": "code",
   "execution_count": 6,
   "metadata": {},
   "outputs": [],
   "source": [
    "warehouse_supply = np.array([60000, 80000])"
   ]
  },
  {
   "cell_type": "code",
   "execution_count": 7,
   "metadata": {},
   "outputs": [],
   "source": [
    "model = LpProblem(\"Supply-Demand-Problem\", LpMinimize)"
   ]
  },
  {
   "cell_type": "code",
   "execution_count": 8,
   "metadata": {},
   "outputs": [
    {
     "data": {
      "text/plain": [
       "['11', '21', '12', '22', '13', '23', '14', '24']"
      ]
     },
     "execution_count": 8,
     "metadata": {},
     "output_type": "execute_result"
    }
   ],
   "source": [
    "variable_names = [str(i)+str(j) for j in range(1, n_customers+1) for i in range(1,n_warehouses+1)]\n",
    "variable_names"
   ]
  },
  {
   "cell_type": "code",
   "execution_count": 9,
   "metadata": {},
   "outputs": [],
   "source": [
    "variable_names.sort()"
   ]
  },
  {
   "cell_type": "code",
   "execution_count": 10,
   "metadata": {},
   "outputs": [],
   "source": [
    "DV_variables = LpVariable.matrix(\"X\", variable_names , cat = \"Integer\" , lowBound= 0 )"
   ]
  },
  {
   "cell_type": "code",
   "execution_count": 11,
   "metadata": {},
   "outputs": [],
   "source": [
    "allocation = np.array(DV_variables).reshape(2,4)"
   ]
  },
  {
   "cell_type": "code",
   "execution_count": 12,
   "metadata": {},
   "outputs": [
    {
     "data": {
      "text/plain": [
       "1.0*X_11 + 3.0*X_12 + 0.5*X_13 + 4.0*X_14 + 2.5*X_21 + 5.0*X_22 + 1.5*X_23 + 2.5*X_24 + 0.0"
      ]
     },
     "execution_count": 12,
     "metadata": {},
     "output_type": "execute_result"
    }
   ],
   "source": [
    "lpSum(allocation*cost_matrix)"
   ]
  },
  {
   "cell_type": "code",
   "execution_count": 13,
   "metadata": {},
   "outputs": [],
   "source": [
    "obj_func = lpSum(allocation*cost_matrix)"
   ]
  },
  {
   "cell_type": "code",
   "execution_count": 14,
   "metadata": {},
   "outputs": [
    {
     "data": {
      "text/plain": [
       "Supply-Demand-Problem:\n",
       "MINIMIZE\n",
       "1.0*X_11 + 3.0*X_12 + 0.5*X_13 + 4.0*X_14 + 2.5*X_21 + 5.0*X_22 + 1.5*X_23 + 2.5*X_24 + 0.0\n",
       "VARIABLES\n",
       "0 <= X_11 Integer\n",
       "0 <= X_12 Integer\n",
       "0 <= X_13 Integer\n",
       "0 <= X_14 Integer\n",
       "0 <= X_21 Integer\n",
       "0 <= X_22 Integer\n",
       "0 <= X_23 Integer\n",
       "0 <= X_24 Integer"
      ]
     },
     "execution_count": 14,
     "metadata": {},
     "output_type": "execute_result"
    }
   ],
   "source": [
    "model +=  obj_func\n",
    "model"
   ]
  },
  {
   "cell_type": "code",
   "execution_count": 15,
   "metadata": {},
   "outputs": [
    {
     "name": "stdout",
     "output_type": "stream",
     "text": [
      "X_11 + X_12 + X_13 + X_14 <= 60000\n",
      "X_21 + X_22 + X_23 + X_24 <= 80000\n"
     ]
    }
   ],
   "source": [
    "# Warehouse Constraints\n",
    "for i in range(n_warehouses):\n",
    "    print(lpSum(allocation[i][j] for j in range(n_customers)) <= warehouse_supply[i])\n",
    "    model += lpSum(allocation[i][j] for j in range(n_customers)) <= warehouse_supply[i] , \"Supply Constraints \" + str(i)"
   ]
  },
  {
   "cell_type": "code",
   "execution_count": 16,
   "metadata": {},
   "outputs": [
    {
     "name": "stdout",
     "output_type": "stream",
     "text": [
      "X_11 + X_21 >= 35000\n",
      "X_12 + X_22 >= 22000\n",
      "X_13 + X_23 >= 18000\n",
      "X_14 + X_24 >= 30000\n"
     ]
    }
   ],
   "source": [
    "# Customer Constraints\n",
    "for j in range(n_customers):\n",
    "    print(lpSum(allocation[i][j] for i in range(n_warehouses)) >= cust_demands[j])\n",
    "    model += lpSum(allocation[i][j] for i in range(n_warehouses)) >= cust_demands[j] , \"Demand Constraints \" + str(j)"
   ]
  },
  {
   "cell_type": "code",
   "execution_count": 17,
   "metadata": {},
   "outputs": [
    {
     "data": {
      "text/plain": [
       "Supply-Demand-Problem:\n",
       "MINIMIZE\n",
       "1.0*X_11 + 3.0*X_12 + 0.5*X_13 + 4.0*X_14 + 2.5*X_21 + 5.0*X_22 + 1.5*X_23 + 2.5*X_24 + 0.0\n",
       "SUBJECT TO\n",
       "Supply_Constraints_0: X_11 + X_12 + X_13 + X_14 <= 60000\n",
       "\n",
       "Supply_Constraints_1: X_21 + X_22 + X_23 + X_24 <= 80000\n",
       "\n",
       "Demand_Constraints_0: X_11 + X_21 >= 35000\n",
       "\n",
       "Demand_Constraints_1: X_12 + X_22 >= 22000\n",
       "\n",
       "Demand_Constraints_2: X_13 + X_23 >= 18000\n",
       "\n",
       "Demand_Constraints_3: X_14 + X_24 >= 30000\n",
       "\n",
       "VARIABLES\n",
       "0 <= X_11 Integer\n",
       "0 <= X_12 Integer\n",
       "0 <= X_13 Integer\n",
       "0 <= X_14 Integer\n",
       "0 <= X_21 Integer\n",
       "0 <= X_22 Integer\n",
       "0 <= X_23 Integer\n",
       "0 <= X_24 Integer"
      ]
     },
     "execution_count": 17,
     "metadata": {},
     "output_type": "execute_result"
    }
   ],
   "source": [
    "model"
   ]
  },
  {
   "cell_type": "code",
   "execution_count": 18,
   "metadata": {},
   "outputs": [
    {
     "data": {
      "text/plain": [
       "[X_11, X_12, X_13, X_14, X_21, X_22, X_23, X_24]"
      ]
     },
     "execution_count": 18,
     "metadata": {},
     "output_type": "execute_result"
    }
   ],
   "source": [
    "model.writeLP(\"Supply_demand_prob.lp\")"
   ]
  },
  {
   "cell_type": "code",
   "execution_count": 19,
   "metadata": {},
   "outputs": [
    {
     "name": "stdout",
     "output_type": "stream",
     "text": [
      "Welcome to the CBC MILP Solver \n",
      "Version: 2.10.3 \n",
      "Build Date: Dec 15 2019 \n",
      "\n",
      "command line - /Users/kailashthiyagarajan/opt/anaconda3/envs/opt_env/lib/python3.7/site-packages/pulp/apis/../solverdir/cbc/osx/64/cbc /var/folders/wl/hpzsvb551856hqjkw0rzm8s00000gn/T/3c57d0d89c4044a0adb3b36a495659e4-pulp.mps timeMode elapsed branch printingOptions all solution /var/folders/wl/hpzsvb551856hqjkw0rzm8s00000gn/T/3c57d0d89c4044a0adb3b36a495659e4-pulp.sol (default strategy 1)\n",
      "At line 2 NAME          MODEL\n",
      "At line 3 ROWS\n",
      "At line 11 COLUMNS\n",
      "At line 52 RHS\n",
      "At line 59 BOUNDS\n",
      "At line 68 ENDATA\n",
      "Problem MODEL has 6 rows, 8 columns and 16 elements\n",
      "Coin0008I MODEL read with 0 errors\n",
      "Option for timeMode changed from cpu to elapsed\n",
      "Continuous objective value is 200000 - 0.00 seconds\n",
      "Cgl0004I processed model has 6 rows, 8 columns (8 integer (0 of which binary)) and 16 elements\n",
      "Cutoff increment increased from 1e-05 to 0.4999\n",
      "Cbc0012I Integer solution of 200000 found by DiveCoefficient after 0 iterations and 0 nodes (0.00 seconds)\n",
      "Cbc0001I Search completed - best objective 200000, took 0 iterations and 0 nodes (0.00 seconds)\n",
      "Cbc0035I Maximum depth 0, 0 variables fixed on reduced cost\n",
      "Cuts at root node changed objective from 200000 to 200000\n",
      "Probing was tried 0 times and created 0 cuts of which 0 were active after adding rounds of cuts (0.000 seconds)\n",
      "Gomory was tried 0 times and created 0 cuts of which 0 were active after adding rounds of cuts (0.000 seconds)\n",
      "Knapsack was tried 0 times and created 0 cuts of which 0 were active after adding rounds of cuts (0.000 seconds)\n",
      "Clique was tried 0 times and created 0 cuts of which 0 were active after adding rounds of cuts (0.000 seconds)\n",
      "MixedIntegerRounding2 was tried 0 times and created 0 cuts of which 0 were active after adding rounds of cuts (0.000 seconds)\n",
      "FlowCover was tried 0 times and created 0 cuts of which 0 were active after adding rounds of cuts (0.000 seconds)\n",
      "TwoMirCuts was tried 0 times and created 0 cuts of which 0 were active after adding rounds of cuts (0.000 seconds)\n",
      "ZeroHalf was tried 0 times and created 0 cuts of which 0 were active after adding rounds of cuts (0.000 seconds)\n",
      "\n",
      "Result - Optimal solution found\n",
      "\n",
      "Objective value:                200000.00000000\n",
      "Enumerated nodes:               0\n",
      "Total iterations:               0\n",
      "Time (CPU seconds):             0.00\n",
      "Time (Wallclock seconds):       0.00\n",
      "\n",
      "Option for printingOptions changed from normal to all\n",
      "Total time (CPU seconds):       0.00   (Wallclock seconds):       0.00\n",
      "\n",
      "Optimal\n"
     ]
    }
   ],
   "source": [
    "model.solve()\n",
    "# solvers.PULP_CBC_CMD(fracGap=0)\n",
    "status =  LpStatus[model.status]\n",
    "print(status)"
   ]
  },
  {
   "cell_type": "code",
   "execution_count": 20,
   "metadata": {},
   "outputs": [
    {
     "name": "stdout",
     "output_type": "stream",
     "text": [
      "Total Cost: 200000.0\n",
      "X_11 = 35000.0\n",
      "X_12 = 22000.0\n",
      "X_13 = 3000.0\n",
      "X_14 = 0.0\n",
      "X_21 = 0.0\n",
      "X_22 = 0.0\n",
      "X_23 = 15000.0\n",
      "X_24 = 30000.0\n"
     ]
    }
   ],
   "source": [
    "print(\"Total Cost:\", model.objective.value())\n",
    "# Decision Variables\n",
    "\n",
    "for v in model.variables():\n",
    "    try:\n",
    "        print(v.name,\"=\", v.value())\n",
    "    except:\n",
    "        print(\"error couldnt find value\")"
   ]
  },
  {
   "cell_type": "code",
   "execution_count": 21,
   "metadata": {},
   "outputs": [
    {
     "name": "stdout",
     "output_type": "stream",
     "text": [
      "Warehouse  1\n",
      "60000.0\n",
      "Warehouse  2\n",
      "45000.0\n"
     ]
    }
   ],
   "source": [
    "# Warehouse 1 and Warehouse 2 required capacity\n",
    "for i in range(n_warehouses):\n",
    "    print(\"Warehouse \", str(i+1))\n",
    "    print(lpSum(allocation[i][j].value() for j in range(n_customers)))"
   ]
  },
  {
   "cell_type": "code",
   "execution_count": null,
   "metadata": {},
   "outputs": [],
   "source": []
  }
 ],
 "metadata": {
  "interpreter": {
   "hash": "dd8184a5d5d885ad8b7d2f4e663e12f2060aae083cb16c489c5cdd6d94655ded"
  },
  "kernelspec": {
   "display_name": "Python 3.7.0 ('opt_env')",
   "language": "python",
   "name": "python3"
  },
  "language_info": {
   "codemirror_mode": {
    "name": "ipython",
    "version": 3
   },
   "file_extension": ".py",
   "mimetype": "text/x-python",
   "name": "python",
   "nbconvert_exporter": "python",
   "pygments_lexer": "ipython3",
   "version": "3.7.0"
  },
  "orig_nbformat": 4
 },
 "nbformat": 4,
 "nbformat_minor": 2
}
